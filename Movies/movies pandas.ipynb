{
 "cells": [
  {
   "cell_type": "code",
   "execution_count": 1,
   "metadata": {},
   "outputs": [],
   "source": [
    "import pandas as pd\n",
    "movies=pd.read_csv('wiki_movie_plots_deduped.csv')"
   ]
  },
  {
   "cell_type": "code",
   "execution_count": 2,
   "metadata": {},
   "outputs": [
    {
     "data": {
      "text/plain": [
       "34886"
      ]
     },
     "execution_count": 2,
     "metadata": {},
     "output_type": "execute_result"
    }
   ],
   "source": [
    "len(movies)"
   ]
  },
  {
   "cell_type": "code",
   "execution_count": 3,
   "metadata": {},
   "outputs": [
    {
     "data": {
      "text/plain": [
       "Index(['Release Year', 'Title', 'Origin/Ethnicity', 'Director', 'Cast',\n",
       "       'Genre', 'Wiki Page', 'Plot'],\n",
       "      dtype='object')"
      ]
     },
     "execution_count": 3,
     "metadata": {},
     "output_type": "execute_result"
    }
   ],
   "source": [
    "movies.columns"
   ]
  },
  {
   "cell_type": "code",
   "execution_count": 4,
   "metadata": {},
   "outputs": [
    {
     "name": "stdout",
     "output_type": "stream",
     "text": [
      "<class 'pandas.core.frame.DataFrame'>\n",
      "RangeIndex: 34886 entries, 0 to 34885\n",
      "Data columns (total 8 columns):\n",
      " #   Column            Non-Null Count  Dtype \n",
      "---  ------            --------------  ----- \n",
      " 0   Release Year      34886 non-null  int64 \n",
      " 1   Title             34886 non-null  object\n",
      " 2   Origin/Ethnicity  34886 non-null  object\n",
      " 3   Director          34886 non-null  object\n",
      " 4   Cast              33464 non-null  object\n",
      " 5   Genre             34886 non-null  object\n",
      " 6   Wiki Page         34886 non-null  object\n",
      " 7   Plot              34886 non-null  object\n",
      "dtypes: int64(1), object(7)\n",
      "memory usage: 2.1+ MB\n"
     ]
    }
   ],
   "source": [
    "movies.info()"
   ]
  },
  {
   "cell_type": "code",
   "execution_count": 5,
   "metadata": {},
   "outputs": [
    {
     "data": {
      "text/html": [
       "<div>\n",
       "<style scoped>\n",
       "    .dataframe tbody tr th:only-of-type {\n",
       "        vertical-align: middle;\n",
       "    }\n",
       "\n",
       "    .dataframe tbody tr th {\n",
       "        vertical-align: top;\n",
       "    }\n",
       "\n",
       "    .dataframe thead th {\n",
       "        text-align: right;\n",
       "    }\n",
       "</style>\n",
       "<table border=\"1\" class=\"dataframe\">\n",
       "  <thead>\n",
       "    <tr style=\"text-align: right;\">\n",
       "      <th></th>\n",
       "      <th>Release Year</th>\n",
       "      <th>Title</th>\n",
       "      <th>Origin/Ethnicity</th>\n",
       "      <th>Director</th>\n",
       "      <th>Cast</th>\n",
       "      <th>Genre</th>\n",
       "      <th>Wiki Page</th>\n",
       "      <th>Plot</th>\n",
       "    </tr>\n",
       "  </thead>\n",
       "  <tbody>\n",
       "    <tr>\n",
       "      <th>34878</th>\n",
       "      <td>2014</td>\n",
       "      <td>Mandıra Filozofu</td>\n",
       "      <td>Turkish</td>\n",
       "      <td>Director: Müfit Can Saçıntı</td>\n",
       "      <td>Director: Müfit Can Saçıntı\\r\\nCast: Rasim Özt...</td>\n",
       "      <td>unknown</td>\n",
       "      <td>https://en.wikipedia.org/wiki/Mand%C4%B1ra_Fil...</td>\n",
       "      <td>Cavit an ambitious industralist in İstanbul pl...</td>\n",
       "    </tr>\n",
       "    <tr>\n",
       "      <th>34879</th>\n",
       "      <td>2014</td>\n",
       "      <td>Winter Sleep</td>\n",
       "      <td>Turkish</td>\n",
       "      <td>Director: Nuri Bilge Ceylan</td>\n",
       "      <td>Director: Nuri Bilge Ceylan\\r\\nCast: Haluk Bil...</td>\n",
       "      <td>unknown</td>\n",
       "      <td>https://en.wikipedia.org/wiki/Winter_Sleep_(film)</td>\n",
       "      <td>Aydın, a former actor, owns a mountaintop hote...</td>\n",
       "    </tr>\n",
       "    <tr>\n",
       "      <th>34880</th>\n",
       "      <td>2014</td>\n",
       "      <td>Sivas</td>\n",
       "      <td>Turkish</td>\n",
       "      <td>Director: Kaan Müjdeci</td>\n",
       "      <td>Director: Kaan Müjdeci\\r\\nCast: Dogan Izci</td>\n",
       "      <td>unknown</td>\n",
       "      <td>https://en.wikipedia.org/wiki/Sivas_(film)</td>\n",
       "      <td>The film follows an eleven-year-old boy named ...</td>\n",
       "    </tr>\n",
       "    <tr>\n",
       "      <th>34881</th>\n",
       "      <td>2014</td>\n",
       "      <td>The Water Diviner</td>\n",
       "      <td>Turkish</td>\n",
       "      <td>Director: Russell Crowe</td>\n",
       "      <td>Director: Russell Crowe\\r\\nCast: Russell Crowe...</td>\n",
       "      <td>unknown</td>\n",
       "      <td>https://en.wikipedia.org/wiki/The_Water_Diviner</td>\n",
       "      <td>The film begins in 1919, just after World War ...</td>\n",
       "    </tr>\n",
       "    <tr>\n",
       "      <th>34882</th>\n",
       "      <td>2017</td>\n",
       "      <td>Çalgı Çengi İkimiz</td>\n",
       "      <td>Turkish</td>\n",
       "      <td>Selçuk Aydemir</td>\n",
       "      <td>Ahmet Kural, Murat Cemcir</td>\n",
       "      <td>comedy</td>\n",
       "      <td>https://en.wikipedia.org/wiki/%C3%87alg%C4%B1_...</td>\n",
       "      <td>Two musicians, Salih and Gürkan, described the...</td>\n",
       "    </tr>\n",
       "    <tr>\n",
       "      <th>34883</th>\n",
       "      <td>2017</td>\n",
       "      <td>Olanlar Oldu</td>\n",
       "      <td>Turkish</td>\n",
       "      <td>Hakan Algül</td>\n",
       "      <td>Ata Demirer, Tuvana Türkay, Ülkü Duru</td>\n",
       "      <td>comedy</td>\n",
       "      <td>https://en.wikipedia.org/wiki/Olanlar_Oldu</td>\n",
       "      <td>Zafer, a sailor living with his mother Döndü i...</td>\n",
       "    </tr>\n",
       "    <tr>\n",
       "      <th>34884</th>\n",
       "      <td>2017</td>\n",
       "      <td>Non-Transferable</td>\n",
       "      <td>Turkish</td>\n",
       "      <td>Brendan Bradley</td>\n",
       "      <td>YouTubers Shanna Malcolm, Shira Lazar, Sara Fl...</td>\n",
       "      <td>romantic comedy</td>\n",
       "      <td>https://en.wikipedia.org/wiki/Non-Transferable...</td>\n",
       "      <td>The film centres around a young woman named Am...</td>\n",
       "    </tr>\n",
       "    <tr>\n",
       "      <th>34885</th>\n",
       "      <td>2017</td>\n",
       "      <td>İstanbul Kırmızısı</td>\n",
       "      <td>Turkish</td>\n",
       "      <td>Ferzan Özpetek</td>\n",
       "      <td>Halit Ergenç, Tuba Büyüküstün, Mehmet Günsür, ...</td>\n",
       "      <td>romantic</td>\n",
       "      <td>https://en.wikipedia.org/wiki/%C4%B0stanbul_K%...</td>\n",
       "      <td>The writer Orhan Şahin returns to İstanbul aft...</td>\n",
       "    </tr>\n",
       "  </tbody>\n",
       "</table>\n",
       "</div>"
      ],
      "text/plain": [
       "       Release Year               Title Origin/Ethnicity  \\\n",
       "34878          2014    Mandıra Filozofu          Turkish   \n",
       "34879          2014        Winter Sleep          Turkish   \n",
       "34880          2014               Sivas          Turkish   \n",
       "34881          2014   The Water Diviner          Turkish   \n",
       "34882          2017  Çalgı Çengi İkimiz          Turkish   \n",
       "34883          2017        Olanlar Oldu          Turkish   \n",
       "34884          2017    Non-Transferable          Turkish   \n",
       "34885          2017  İstanbul Kırmızısı          Turkish   \n",
       "\n",
       "                          Director  \\\n",
       "34878  Director: Müfit Can Saçıntı   \n",
       "34879  Director: Nuri Bilge Ceylan   \n",
       "34880       Director: Kaan Müjdeci   \n",
       "34881      Director: Russell Crowe   \n",
       "34882               Selçuk Aydemir   \n",
       "34883                  Hakan Algül   \n",
       "34884              Brendan Bradley   \n",
       "34885               Ferzan Özpetek   \n",
       "\n",
       "                                                    Cast            Genre  \\\n",
       "34878  Director: Müfit Can Saçıntı\\r\\nCast: Rasim Özt...          unknown   \n",
       "34879  Director: Nuri Bilge Ceylan\\r\\nCast: Haluk Bil...          unknown   \n",
       "34880         Director: Kaan Müjdeci\\r\\nCast: Dogan Izci          unknown   \n",
       "34881  Director: Russell Crowe\\r\\nCast: Russell Crowe...          unknown   \n",
       "34882                          Ahmet Kural, Murat Cemcir           comedy   \n",
       "34883              Ata Demirer, Tuvana Türkay, Ülkü Duru           comedy   \n",
       "34884  YouTubers Shanna Malcolm, Shira Lazar, Sara Fl...  romantic comedy   \n",
       "34885  Halit Ergenç, Tuba Büyüküstün, Mehmet Günsür, ...         romantic   \n",
       "\n",
       "                                               Wiki Page  \\\n",
       "34878  https://en.wikipedia.org/wiki/Mand%C4%B1ra_Fil...   \n",
       "34879  https://en.wikipedia.org/wiki/Winter_Sleep_(film)   \n",
       "34880         https://en.wikipedia.org/wiki/Sivas_(film)   \n",
       "34881    https://en.wikipedia.org/wiki/The_Water_Diviner   \n",
       "34882  https://en.wikipedia.org/wiki/%C3%87alg%C4%B1_...   \n",
       "34883         https://en.wikipedia.org/wiki/Olanlar_Oldu   \n",
       "34884  https://en.wikipedia.org/wiki/Non-Transferable...   \n",
       "34885  https://en.wikipedia.org/wiki/%C4%B0stanbul_K%...   \n",
       "\n",
       "                                                    Plot  \n",
       "34878  Cavit an ambitious industralist in İstanbul pl...  \n",
       "34879  Aydın, a former actor, owns a mountaintop hote...  \n",
       "34880  The film follows an eleven-year-old boy named ...  \n",
       "34881  The film begins in 1919, just after World War ...  \n",
       "34882  Two musicians, Salih and Gürkan, described the...  \n",
       "34883  Zafer, a sailor living with his mother Döndü i...  \n",
       "34884  The film centres around a young woman named Am...  \n",
       "34885  The writer Orhan Şahin returns to İstanbul aft...  "
      ]
     },
     "execution_count": 5,
     "metadata": {},
     "output_type": "execute_result"
    }
   ],
   "source": [
    "movies.tail(8)"
   ]
  },
  {
   "cell_type": "code",
   "execution_count": 8,
   "metadata": {},
   "outputs": [
    {
     "name": "stdout",
     "output_type": "stream",
     "text": [
      "İstanbul Kırmızısı\n",
      "Non-Transferable\n",
      "Olanlar Oldu\n",
      "Çalgı Çengi İkimiz\n",
      "The Water Diviner\n",
      "Sivas\n",
      "Winter Sleep\n",
      "Mandıra Filozofu\n"
     ]
    }
   ],
   "source": [
    "for i in range(1,9):\n",
    "    print(movies.iloc[len(movies)-i].Title)"
   ]
  },
  {
   "cell_type": "code",
   "execution_count": 9,
   "metadata": {},
   "outputs": [
    {
     "data": {
      "text/plain": [
       "unknown                        6083\n",
       "drama                          5964\n",
       "comedy                         4379\n",
       "horror                         1167\n",
       "action                         1098\n",
       "                               ... \n",
       "animation/ period                 1\n",
       "historical, drama, musical        1\n",
       "anime/computer animation          1\n",
       "adventure / drama / western       1\n",
       "western, romantic drama           1\n",
       "Name: Genre, Length: 2265, dtype: int64"
      ]
     },
     "execution_count": 9,
     "metadata": {},
     "output_type": "execute_result"
    }
   ],
   "source": [
    "movies.Genre.value_counts()"
   ]
  },
  {
   "cell_type": "code",
   "execution_count": 10,
   "metadata": {},
   "outputs": [
    {
     "data": {
      "text/plain": [
       "Unknown                                      1124\n",
       "Michael Curtiz                                 79\n",
       "Hanna-Barbera                                  77\n",
       "Lloyd Bacon                                    66\n",
       "Jules White                                    63\n",
       "                                             ... \n",
       "Antonio Banderas                                1\n",
       "Deven Verma                                     1\n",
       "Michael Powell, Ludwig Berger, Tim Whelan       1\n",
       "Mohan Gandhi                                    1\n",
       "Michael Benveniste, Howard Ziehm                1\n",
       "Name: Director, Length: 12593, dtype: int64"
      ]
     },
     "execution_count": 10,
     "metadata": {},
     "output_type": "execute_result"
    }
   ],
   "source": [
    "movies.Director.value_counts()"
   ]
  },
  {
   "cell_type": "code",
   "execution_count": 15,
   "metadata": {},
   "outputs": [
    {
     "data": {
      "text/plain": [
       "Cinderella                      8\n",
       "The Three Musketeers            8\n",
       "Treasure Island                 7\n",
       "Anna Karenina                   6\n",
       "Hero                            6\n",
       "                               ..\n",
       "Counselor, TheThe Counselor     1\n",
       "Private Izzy Murphy             1\n",
       "Pokkiri Raja ( പോക്കിരിരാജ )    1\n",
       "Mexican Manhunt                 1\n",
       "Chettu Kinda Pleader            1\n",
       "Name: Title, Length: 32432, dtype: int64"
      ]
     },
     "execution_count": 15,
     "metadata": {},
     "output_type": "execute_result"
    }
   ],
   "source": [
    "movies.Title.value_counts()"
   ]
  },
  {
   "cell_type": "code",
   "execution_count": 18,
   "metadata": {},
   "outputs": [],
   "source": [
    "movies.columns = movies.columns.str.strip().str.lower().str.replace(' ', '_').str.replace('/', '_')"
   ]
  },
  {
   "cell_type": "code",
   "execution_count": 20,
   "metadata": {},
   "outputs": [
    {
     "data": {
      "text/plain": [
       "American        17377\n",
       "British          3670\n",
       "Bollywood        2931\n",
       "Tamil            2599\n",
       "Telugu           1311\n",
       "Japanese         1188\n",
       "Malayalam        1095\n",
       "Hong Kong         791\n",
       "Canadian          723\n",
       "Australian        576\n",
       "South_Korean      522\n",
       "Chinese           463\n",
       "Kannada           444\n",
       "Bengali           306\n",
       "Russian           232\n",
       "Marathi           141\n",
       "Filipino          128\n",
       "Bangladeshi        87\n",
       "Punjabi            84\n",
       "Malaysian          70\n",
       "Turkish            70\n",
       "Egyptian           67\n",
       "Assamese            9\n",
       "Maldivian           2\n",
       "Name: origin_ethnicity, dtype: int64"
      ]
     },
     "execution_count": 20,
     "metadata": {},
     "output_type": "execute_result"
    }
   ],
   "source": [
    "movies.origin_ethnicity.value_counts()"
   ]
  },
  {
   "cell_type": "code",
   "execution_count": 21,
   "metadata": {},
   "outputs": [
    {
     "data": {
      "text/plain": [
       "2013    1021\n",
       "2014     929\n",
       "2012     874\n",
       "2011     858\n",
       "2010     825\n",
       "        ... \n",
       "1906       3\n",
       "1903       2\n",
       "1905       2\n",
       "1904       1\n",
       "1902       1\n",
       "Name: release_year, Length: 117, dtype: int64"
      ]
     },
     "execution_count": 21,
     "metadata": {},
     "output_type": "execute_result"
    }
   ],
   "source": [
    "movies.release_year.value_counts()"
   ]
  }
 ],
 "metadata": {
  "interpreter": {
   "hash": "f8bbe703e4409461e5c1796f0c401e26e62f32801f1a5b19455b89c31c613fbe"
  },
  "kernelspec": {
   "display_name": "Python 3.8.8 ('base')",
   "language": "python",
   "name": "python3"
  },
  "language_info": {
   "codemirror_mode": {
    "name": "ipython",
    "version": 3
   },
   "file_extension": ".py",
   "mimetype": "text/x-python",
   "name": "python",
   "nbconvert_exporter": "python",
   "pygments_lexer": "ipython3",
   "version": "3.8.8"
  },
  "orig_nbformat": 4
 },
 "nbformat": 4,
 "nbformat_minor": 2
}
