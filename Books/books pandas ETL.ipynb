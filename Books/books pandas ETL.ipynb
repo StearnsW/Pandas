{
 "cells": [
  {
   "cell_type": "code",
   "execution_count": 1,
   "id": "8f418bc0-8d5e-40bb-8a59-6e20cfdf9292",
   "metadata": {},
   "outputs": [],
   "source": [
    "import pandas as pd\n",
    "books=pd.read_csv('books.csv')"
   ]
  },
  {
   "cell_type": "markdown",
   "id": "1b3889a7",
   "metadata": {},
   "source": [
    "Decide how to handle empty values in the following columns:\n",
    "ISBN\n",
    "ISBN13\n",
    "Language"
   ]
  },
  {
   "cell_type": "code",
   "execution_count": 2,
   "id": "a83c5062",
   "metadata": {},
   "outputs": [
    {
     "name": "stdout",
     "output_type": "stream",
     "text": [
      "<class 'pandas.core.frame.DataFrame'>\n",
      "Int64Index: 8238 entries, 0 to 9998\n",
      "Data columns (total 24 columns):\n",
      " #   Column                     Non-Null Count  Dtype  \n",
      "---  ------                     --------------  -----  \n",
      " 0   id                         8238 non-null   int64  \n",
      " 1   book_id                    8238 non-null   int64  \n",
      " 2   best_book_id               8238 non-null   int64  \n",
      " 3   work_id                    8238 non-null   int64  \n",
      " 4   books_count                8238 non-null   int64  \n",
      " 5   isbn                       8238 non-null   object \n",
      " 6   isbn13                     8238 non-null   float64\n",
      " 7   authors                    8238 non-null   object \n",
      " 8   original_publication_year  8225 non-null   float64\n",
      " 9   original_title             7865 non-null   object \n",
      " 10  title                      8238 non-null   object \n",
      " 11  language_code              8238 non-null   object \n",
      " 12  average_rating             8238 non-null   float64\n",
      " 13  ratings_count              8238 non-null   int64  \n",
      " 14  work_ratings_count         8238 non-null   int64  \n",
      " 15  work_text_reviews_count    8238 non-null   int64  \n",
      " 16  ratings_1                  8238 non-null   int64  \n",
      " 17  ratings_2                  8238 non-null   int64  \n",
      " 18  ratings_3                  8238 non-null   int64  \n",
      " 19  ratings_4                  8238 non-null   int64  \n",
      " 20  ratings_5                  8238 non-null   int64  \n",
      " 21  image_url                  8238 non-null   object \n",
      " 22  small_image_url            8238 non-null   object \n",
      " 23  new_id                     8238 non-null   int64  \n",
      "dtypes: float64(3), int64(14), object(7)\n",
      "memory usage: 1.6+ MB\n"
     ]
    },
    {
     "name": "stderr",
     "output_type": "stream",
     "text": [
      "<ipython-input-2-6c53eaf6d0b4>:5: SettingWithCopyWarning: \n",
      "A value is trying to be set on a copy of a slice from a DataFrame.\n",
      "Try using .loc[row_indexer,col_indexer] = value instead\n",
      "\n",
      "See the caveats in the documentation: https://pandas.pydata.org/pandas-docs/stable/user_guide/indexing.html#returning-a-view-versus-a-copy\n",
      "  books_less_missing['new_id']=book_index\n"
     ]
    }
   ],
   "source": [
    "books_less_missing=books.dropna(subset=['isbn','isbn13','language_code'])\n",
    "book_index=[]\n",
    "for i in range(len(books_less_missing)):\n",
    "    book_index.append(i)\n",
    "books_less_missing['new_id']=book_index\n",
    "books_less_missing.info()"
   ]
  },
  {
   "cell_type": "markdown",
   "id": "b0280b2d",
   "metadata": {},
   "source": [
    "Format ISBN 13 to match the specification with dashes. Consult the ISBN information page for guidance."
   ]
  },
  {
   "cell_type": "code",
   "execution_count": 3,
   "id": "2bad46f0",
   "metadata": {},
   "outputs": [
    {
     "name": "stderr",
     "output_type": "stream",
     "text": [
      "<ipython-input-3-f6ef5c1a50a8>:10: SettingWithCopyWarning: \n",
      "A value is trying to be set on a copy of a slice from a DataFrame.\n",
      "Try using .loc[row_indexer,col_indexer] = value instead\n",
      "\n",
      "See the caveats in the documentation: https://pandas.pydata.org/pandas-docs/stable/user_guide/indexing.html#returning-a-view-versus-a-copy\n",
      "  books_less_missing['isbn13']=as_isbn13_list\n"
     ]
    }
   ],
   "source": [
    "as_string_list=list(books_less_missing['isbn13'].astype(str))\n",
    "# print((as_string))\n",
    "\n",
    "as_isbn13_list=[]\n",
    "for i in range(len(as_string_list)):\n",
    "    decimal_location=as_string_list[i].find('.')\n",
    "    string_no_decimal=as_string_list[i][0:decimal_location]\n",
    "    isbn13_no_dashes=\"{0:0>13}\".format(string_no_decimal)\n",
    "    as_isbn13_list.append(f'{isbn13_no_dashes[0:3]}-{isbn13_no_dashes[3:4]}-{isbn13_no_dashes[4:9]}-{isbn13_no_dashes[9:12]}-{isbn13_no_dashes[12:13]}')\n",
    "books_less_missing['isbn13']=as_isbn13_list\n"
   ]
  },
  {
   "cell_type": "markdown",
   "id": "c08adc09",
   "metadata": {},
   "source": [
    "Add a column to show where original_title and title differ."
   ]
  },
  {
   "cell_type": "code",
   "execution_count": 4,
   "id": "4775b658",
   "metadata": {},
   "outputs": [
    {
     "name": "stderr",
     "output_type": "stream",
     "text": [
      "<ipython-input-4-162be805341b>:9: SettingWithCopyWarning: \n",
      "A value is trying to be set on a copy of a slice from a DataFrame.\n",
      "Try using .loc[row_indexer,col_indexer] = value instead\n",
      "\n",
      "See the caveats in the documentation: https://pandas.pydata.org/pandas-docs/stable/user_guide/indexing.html#returning-a-view-versus-a-copy\n",
      "  books_less_missing['title_changed']=title_change_list\n"
     ]
    },
    {
     "data": {
      "text/plain": [
       "False    4981\n",
       "True     3257\n",
       "Name: title_changed, dtype: int64"
      ]
     },
     "execution_count": 4,
     "metadata": {},
     "output_type": "execute_result"
    }
   ],
   "source": [
    "titles=list(books_less_missing['title'])\n",
    "original_titles=list(books_less_missing['original_title'])\n",
    "title_change_list=[]\n",
    "for i in range(len(titles)):\n",
    "    same_title=False\n",
    "    if titles[i]==original_titles[i]:\n",
    "        same_title=True\n",
    "    title_change_list.append(same_title)\n",
    "books_less_missing['title_changed']=title_change_list\n",
    "books_less_missing.title_changed.value_counts()"
   ]
  },
  {
   "cell_type": "markdown",
   "id": "12d7513f",
   "metadata": {},
   "source": [
    "Break up the authors into separate columns."
   ]
  },
  {
   "cell_type": "code",
   "execution_count": 5,
   "id": "cb174239",
   "metadata": {},
   "outputs": [],
   "source": [
    "author_expansion=books_less_missing.authors.str.split(\",\",expand=True)\n",
    "authors_index=[]\n",
    "for i in range(len(author_expansion)):\n",
    "    authors_index.append(i)\n",
    "author_expansion[\"new_id\"]=authors_index\n",
    "expanded_authors=books_less_missing.merge(author_expansion,how='inner',on='new_id')\n"
   ]
  },
  {
   "cell_type": "markdown",
   "id": "413356a3",
   "metadata": {},
   "source": [
    "Store each publication by its publication year by century in its own worksheet. So 1800-1899, 1900-1999, 2000-2099, etc."
   ]
  },
  {
   "cell_type": "code",
   "execution_count": 6,
   "id": "3942d14a",
   "metadata": {},
   "outputs": [
    {
     "name": "stderr",
     "output_type": "stream",
     "text": [
      "C:\\Users\\willi\\anaconda3\\lib\\site-packages\\xlsxwriter\\workbook.py:336: UserWarning: Calling close() on already closed file.\n",
      "  warn(\"Calling close() on already closed file.\")\n"
     ]
    }
   ],
   "source": [
    "pre_17th_century=expanded_authors[expanded_authors.original_publication_year<1600]\n",
    "post_16th_century=expanded_authors[expanded_authors.original_publication_year>=1600]\n",
    "century17=post_16th_century[post_16th_century.original_publication_year<1700]\n",
    "post_17th_century=post_16th_century[post_16th_century.original_publication_year>=1700]\n",
    "century18=post_17th_century[post_17th_century.original_publication_year<1800]\n",
    "post_18th_century=post_17th_century[post_17th_century.original_publication_year>=1800]\n",
    "century19=post_17th_century[post_17th_century.original_publication_year<1900]\n",
    "post_19th_century=post_17th_century[post_17th_century.original_publication_year>=1900]\n",
    "century20=post_17th_century[post_17th_century.original_publication_year<2000]\n",
    "post_20th_century=post_17th_century[post_17th_century.original_publication_year>=2000]\n",
    "\n",
    "with pd.ExcelWriter('books_by_century.xlsx') as xlsxWriter:\n",
    "    pre_17th_century.to_excel(xlsxWriter,sheet_name=\"pre 17th century\")\n",
    "    century17.to_excel(xlsxWriter,sheet_name=\"17th century\")\n",
    "    century18.to_excel(xlsxWriter,sheet_name=\"18th century\")\n",
    "    century19.to_excel(xlsxWriter,sheet_name=\"19th century\")\n",
    "    century20.to_excel(xlsxWriter,sheet_name=\"20th century\")\n",
    "    post_20th_century.to_excel(xlsxWriter,sheet_name=\"post 20th century\")\n",
    "    \n",
    "xlsxWriter.save()"
   ]
  }
 ],
 "metadata": {
  "kernelspec": {
   "display_name": "Python 3",
   "language": "python",
   "name": "python3"
  },
  "language_info": {
   "codemirror_mode": {
    "name": "ipython",
    "version": 3
   },
   "file_extension": ".py",
   "mimetype": "text/x-python",
   "name": "python",
   "nbconvert_exporter": "python",
   "pygments_lexer": "ipython3",
   "version": "3.8.8"
  }
 },
 "nbformat": 4,
 "nbformat_minor": 5
}
