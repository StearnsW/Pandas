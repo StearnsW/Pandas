{
 "cells": [
  {
   "cell_type": "code",
   "execution_count": 6,
   "id": "8f418bc0-8d5e-40bb-8a59-6e20cfdf9292",
   "metadata": {},
   "outputs": [
    {
     "data": {
      "text/plain": [
       "pandas.core.frame.DataFrame"
      ]
     },
     "execution_count": 6,
     "metadata": {},
     "output_type": "execute_result"
    }
   ],
   "source": [
    "import pandas as pd\n",
    "books=pd.read_csv('books.csv')\n",
    "type(books)"
   ]
  },
  {
   "cell_type": "code",
   "execution_count": 7,
   "id": "726e53f1-4427-44e6-90b9-c9d048fa3b6b",
   "metadata": {},
   "outputs": [
    {
     "data": {
      "text/plain": [
       "10000"
      ]
     },
     "execution_count": 7,
     "metadata": {},
     "output_type": "execute_result"
    }
   ],
   "source": [
    "len(books)"
   ]
  },
  {
   "cell_type": "code",
   "execution_count": 8,
   "id": "b744d0cb-0a9c-405d-a32d-aaa036113bac",
   "metadata": {},
   "outputs": [
    {
     "data": {
      "text/plain": [
       "(10000, 23)"
      ]
     },
     "execution_count": 8,
     "metadata": {},
     "output_type": "execute_result"
    }
   ],
   "source": [
    "books.shape"
   ]
  },
  {
   "cell_type": "code",
   "execution_count": 9,
   "id": "c9548907-8a6a-46eb-a641-20aeeced9ceb",
   "metadata": {},
   "outputs": [
    {
     "data": {
      "text/plain": [
       "Index(['id', 'book_id', 'best_book_id', 'work_id', 'books_count', 'isbn',\n",
       "       'isbn13', 'authors', 'original_publication_year', 'original_title',\n",
       "       'title', 'language_code', 'average_rating', 'ratings_count',\n",
       "       'work_ratings_count', 'work_text_reviews_count', 'ratings_1',\n",
       "       'ratings_2', 'ratings_3', 'ratings_4', 'ratings_5', 'image_url',\n",
       "       'small_image_url'],\n",
       "      dtype='object')"
      ]
     },
     "execution_count": 9,
     "metadata": {},
     "output_type": "execute_result"
    }
   ],
   "source": [
    "books.columns"
   ]
  },
  {
   "cell_type": "code",
   "execution_count": 10,
   "id": "b9d59234-a881-47b3-9fe6-67938f94fbae",
   "metadata": {},
   "outputs": [
    {
     "name": "stdout",
     "output_type": "stream",
     "text": [
      "<class 'pandas.core.frame.DataFrame'>\n",
      "RangeIndex: 10000 entries, 0 to 9999\n",
      "Data columns (total 23 columns):\n",
      " #   Column                     Non-Null Count  Dtype  \n",
      "---  ------                     --------------  -----  \n",
      " 0   id                         10000 non-null  int64  \n",
      " 1   book_id                    10000 non-null  int64  \n",
      " 2   best_book_id               10000 non-null  int64  \n",
      " 3   work_id                    10000 non-null  int64  \n",
      " 4   books_count                10000 non-null  int64  \n",
      " 5   isbn                       9300 non-null   object \n",
      " 6   isbn13                     9415 non-null   float64\n",
      " 7   authors                    10000 non-null  object \n",
      " 8   original_publication_year  9979 non-null   float64\n",
      " 9   original_title             9415 non-null   object \n",
      " 10  title                      10000 non-null  object \n",
      " 11  language_code              8916 non-null   object \n",
      " 12  average_rating             10000 non-null  float64\n",
      " 13  ratings_count              10000 non-null  int64  \n",
      " 14  work_ratings_count         10000 non-null  int64  \n",
      " 15  work_text_reviews_count    10000 non-null  int64  \n",
      " 16  ratings_1                  10000 non-null  int64  \n",
      " 17  ratings_2                  10000 non-null  int64  \n",
      " 18  ratings_3                  10000 non-null  int64  \n",
      " 19  ratings_4                  10000 non-null  int64  \n",
      " 20  ratings_5                  10000 non-null  int64  \n",
      " 21  image_url                  10000 non-null  object \n",
      " 22  small_image_url            10000 non-null  object \n",
      "dtypes: float64(3), int64(13), object(7)\n",
      "memory usage: 1.8+ MB\n"
     ]
    }
   ],
   "source": [
    "books.info()"
   ]
  },
  {
   "cell_type": "code",
   "execution_count": 11,
   "id": "70d77589-b06d-486b-9342-0450c9a246d0",
   "metadata": {},
   "outputs": [],
   "source": [
    "books = books[['title','authors','average_rating']]"
   ]
  },
  {
   "cell_type": "code",
   "execution_count": 12,
   "id": "2f18d8fe-6189-481c-8c4f-71477feeae04",
   "metadata": {},
   "outputs": [
    {
     "data": {
      "text/html": [
       "<div>\n",
       "<style scoped>\n",
       "    .dataframe tbody tr th:only-of-type {\n",
       "        vertical-align: middle;\n",
       "    }\n",
       "\n",
       "    .dataframe tbody tr th {\n",
       "        vertical-align: top;\n",
       "    }\n",
       "\n",
       "    .dataframe thead th {\n",
       "        text-align: right;\n",
       "    }\n",
       "</style>\n",
       "<table border=\"1\" class=\"dataframe\">\n",
       "  <thead>\n",
       "    <tr style=\"text-align: right;\">\n",
       "      <th></th>\n",
       "      <th>title</th>\n",
       "      <th>authors</th>\n",
       "      <th>average_rating</th>\n",
       "    </tr>\n",
       "  </thead>\n",
       "  <tbody>\n",
       "    <tr>\n",
       "      <th>0</th>\n",
       "      <td>The Hunger Games (The Hunger Games, #1)</td>\n",
       "      <td>Suzanne Collins</td>\n",
       "      <td>4.34</td>\n",
       "    </tr>\n",
       "    <tr>\n",
       "      <th>1</th>\n",
       "      <td>Harry Potter and the Sorcerer's Stone (Harry P...</td>\n",
       "      <td>J.K. Rowling, Mary GrandPré</td>\n",
       "      <td>4.44</td>\n",
       "    </tr>\n",
       "    <tr>\n",
       "      <th>2</th>\n",
       "      <td>Twilight (Twilight, #1)</td>\n",
       "      <td>Stephenie Meyer</td>\n",
       "      <td>3.57</td>\n",
       "    </tr>\n",
       "    <tr>\n",
       "      <th>3</th>\n",
       "      <td>To Kill a Mockingbird</td>\n",
       "      <td>Harper Lee</td>\n",
       "      <td>4.25</td>\n",
       "    </tr>\n",
       "    <tr>\n",
       "      <th>4</th>\n",
       "      <td>The Great Gatsby</td>\n",
       "      <td>F. Scott Fitzgerald</td>\n",
       "      <td>3.89</td>\n",
       "    </tr>\n",
       "  </tbody>\n",
       "</table>\n",
       "</div>"
      ],
      "text/plain": [
       "                                               title  \\\n",
       "0            The Hunger Games (The Hunger Games, #1)   \n",
       "1  Harry Potter and the Sorcerer's Stone (Harry P...   \n",
       "2                            Twilight (Twilight, #1)   \n",
       "3                              To Kill a Mockingbird   \n",
       "4                                   The Great Gatsby   \n",
       "\n",
       "                       authors  average_rating  \n",
       "0              Suzanne Collins            4.34  \n",
       "1  J.K. Rowling, Mary GrandPré            4.44  \n",
       "2              Stephenie Meyer            3.57  \n",
       "3                   Harper Lee            4.25  \n",
       "4          F. Scott Fitzgerald            3.89  "
      ]
     },
     "execution_count": 12,
     "metadata": {},
     "output_type": "execute_result"
    }
   ],
   "source": [
    "books.head()"
   ]
  },
  {
   "cell_type": "code",
   "execution_count": 13,
   "id": "b7048bab-1f92-4667-b132-419b917ca190",
   "metadata": {},
   "outputs": [
    {
     "data": {
      "text/html": [
       "<div>\n",
       "<style scoped>\n",
       "    .dataframe tbody tr th:only-of-type {\n",
       "        vertical-align: middle;\n",
       "    }\n",
       "\n",
       "    .dataframe tbody tr th {\n",
       "        vertical-align: top;\n",
       "    }\n",
       "\n",
       "    .dataframe thead th {\n",
       "        text-align: right;\n",
       "    }\n",
       "</style>\n",
       "<table border=\"1\" class=\"dataframe\">\n",
       "  <thead>\n",
       "    <tr style=\"text-align: right;\">\n",
       "      <th></th>\n",
       "      <th>title</th>\n",
       "      <th>authors</th>\n",
       "      <th>average_rating</th>\n",
       "    </tr>\n",
       "  </thead>\n",
       "  <tbody>\n",
       "    <tr>\n",
       "      <th>9995</th>\n",
       "      <td>Bayou Moon (The Edge, #2)</td>\n",
       "      <td>Ilona Andrews</td>\n",
       "      <td>4.09</td>\n",
       "    </tr>\n",
       "    <tr>\n",
       "      <th>9996</th>\n",
       "      <td>Means of Ascent (The Years of Lyndon Johnson, #2)</td>\n",
       "      <td>Robert A. Caro</td>\n",
       "      <td>4.25</td>\n",
       "    </tr>\n",
       "    <tr>\n",
       "      <th>9997</th>\n",
       "      <td>The Mauritius Command</td>\n",
       "      <td>Patrick O'Brian</td>\n",
       "      <td>4.35</td>\n",
       "    </tr>\n",
       "    <tr>\n",
       "      <th>9998</th>\n",
       "      <td>Cinderella Ate My Daughter: Dispatches from th...</td>\n",
       "      <td>Peggy Orenstein</td>\n",
       "      <td>3.65</td>\n",
       "    </tr>\n",
       "    <tr>\n",
       "      <th>9999</th>\n",
       "      <td>The First World War</td>\n",
       "      <td>John Keegan</td>\n",
       "      <td>4.00</td>\n",
       "    </tr>\n",
       "  </tbody>\n",
       "</table>\n",
       "</div>"
      ],
      "text/plain": [
       "                                                  title          authors  \\\n",
       "9995                          Bayou Moon (The Edge, #2)    Ilona Andrews   \n",
       "9996  Means of Ascent (The Years of Lyndon Johnson, #2)   Robert A. Caro   \n",
       "9997                              The Mauritius Command  Patrick O'Brian   \n",
       "9998  Cinderella Ate My Daughter: Dispatches from th...  Peggy Orenstein   \n",
       "9999                                The First World War      John Keegan   \n",
       "\n",
       "      average_rating  \n",
       "9995            4.09  \n",
       "9996            4.25  \n",
       "9997            4.35  \n",
       "9998            3.65  \n",
       "9999            4.00  "
      ]
     },
     "execution_count": 13,
     "metadata": {},
     "output_type": "execute_result"
    }
   ],
   "source": [
    "books.tail()"
   ]
  },
  {
   "cell_type": "code",
   "execution_count": 14,
   "id": "2b2f1cee-7a53-4a7a-ab27-94fc05af22ef",
   "metadata": {},
   "outputs": [
    {
     "data": {
      "text/plain": [
       "Stephen King                                                          60\n",
       "Nora Roberts                                                          59\n",
       "Dean Koontz                                                           47\n",
       "Terry Pratchett                                                       42\n",
       "Agatha Christie                                                       39\n",
       "                                                                      ..\n",
       "Malvina G. Vogel, Arthur Conan Doyle                                   1\n",
       "Dan   Harris                                                           1\n",
       "Gene Luen Yang, Michael Dante DiMartino, Bryan Konietzko, Gurihiru     1\n",
       "Patricia Briggs, Eileen Wilks, Karen Chance, Sunny                     1\n",
       "Jalaluddin Rumi, Coleman Barks                                         1\n",
       "Name: authors, Length: 4664, dtype: int64"
      ]
     },
     "execution_count": 14,
     "metadata": {},
     "output_type": "execute_result"
    }
   ],
   "source": [
    "books.authors.value_counts()"
   ]
  },
  {
   "cell_type": "code",
   "execution_count": 15,
   "id": "afa8dc51-dde2-4bea-b1d1-023400507ad9",
   "metadata": {},
   "outputs": [
    {
     "data": {
      "text/html": [
       "<div>\n",
       "<style scoped>\n",
       "    .dataframe tbody tr th:only-of-type {\n",
       "        vertical-align: middle;\n",
       "    }\n",
       "\n",
       "    .dataframe tbody tr th {\n",
       "        vertical-align: top;\n",
       "    }\n",
       "\n",
       "    .dataframe thead th {\n",
       "        text-align: right;\n",
       "    }\n",
       "</style>\n",
       "<table border=\"1\" class=\"dataframe\">\n",
       "  <thead>\n",
       "    <tr style=\"text-align: right;\">\n",
       "      <th></th>\n",
       "      <th>title</th>\n",
       "      <th>authors</th>\n",
       "      <th>average_rating</th>\n",
       "    </tr>\n",
       "  </thead>\n",
       "  <tbody>\n",
       "    <tr>\n",
       "      <th>71</th>\n",
       "      <td>The Shining (The Shining #1)</td>\n",
       "      <td>Stephen King</td>\n",
       "      <td>4.17</td>\n",
       "    </tr>\n",
       "    <tr>\n",
       "      <th>175</th>\n",
       "      <td>It</td>\n",
       "      <td>Stephen King</td>\n",
       "      <td>4.18</td>\n",
       "    </tr>\n",
       "    <tr>\n",
       "      <th>231</th>\n",
       "      <td>The Gunslinger (The Dark Tower, #1)</td>\n",
       "      <td>Stephen King</td>\n",
       "      <td>3.99</td>\n",
       "    </tr>\n",
       "    <tr>\n",
       "      <th>236</th>\n",
       "      <td>Carrie</td>\n",
       "      <td>Stephen King</td>\n",
       "      <td>3.93</td>\n",
       "    </tr>\n",
       "    <tr>\n",
       "      <th>242</th>\n",
       "      <td>Misery</td>\n",
       "      <td>Stephen King</td>\n",
       "      <td>4.11</td>\n",
       "    </tr>\n",
       "  </tbody>\n",
       "</table>\n",
       "</div>"
      ],
      "text/plain": [
       "                                   title       authors  average_rating\n",
       "71          The Shining (The Shining #1)  Stephen King            4.17\n",
       "175                                   It  Stephen King            4.18\n",
       "231  The Gunslinger (The Dark Tower, #1)  Stephen King            3.99\n",
       "236                               Carrie  Stephen King            3.93\n",
       "242                               Misery  Stephen King            4.11"
      ]
     },
     "execution_count": 15,
     "metadata": {},
     "output_type": "execute_result"
    }
   ],
   "source": [
    "books[books.authors=='Stephen King'].head()"
   ]
  },
  {
   "cell_type": "code",
   "execution_count": 16,
   "id": "9ad1312a-2d5b-4db0-a37b-c92a76c96e31",
   "metadata": {},
   "outputs": [],
   "source": [
    "most_popular_books = books.average_rating.nlargest()"
   ]
  },
  {
   "cell_type": "code",
   "execution_count": 17,
   "id": "50ec3e71-9ad6-4a60-a991-c8d809bcdca3",
   "metadata": {},
   "outputs": [
    {
     "data": {
      "text/plain": [
       "pandas.core.series.Series"
      ]
     },
     "execution_count": 17,
     "metadata": {},
     "output_type": "execute_result"
    }
   ],
   "source": [
    "type(most_popular_books)"
   ]
  },
  {
   "cell_type": "code",
   "execution_count": 18,
   "id": "f982ba96-d9d4-41f5-a4ea-4b48348a9e15",
   "metadata": {},
   "outputs": [
    {
     "data": {
      "text/plain": [
       "array([4.82, 4.77, 4.77, 4.76, 4.76])"
      ]
     },
     "execution_count": 18,
     "metadata": {},
     "output_type": "execute_result"
    }
   ],
   "source": [
    "most_popular_books.values"
   ]
  },
  {
   "cell_type": "code",
   "execution_count": 19,
   "id": "330aa642-ef2f-4472-8c79-ed1a2ad7d7ab",
   "metadata": {},
   "outputs": [
    {
     "data": {
      "text/plain": [
       "[Int64Index([3627, 861, 3274, 7946, 8853], dtype='int64')]"
      ]
     },
     "execution_count": 19,
     "metadata": {},
     "output_type": "execute_result"
    }
   ],
   "source": [
    "most_popular_books.axes"
   ]
  },
  {
   "cell_type": "code",
   "execution_count": 20,
   "id": "e031b8c0-9668-4b7b-bc6d-4abe80f5a012",
   "metadata": {},
   "outputs": [
    {
     "data": {
      "text/plain": [
       "RangeIndex(start=0, stop=10000, step=1)"
      ]
     },
     "execution_count": 20,
     "metadata": {},
     "output_type": "execute_result"
    }
   ],
   "source": [
    "books.index"
   ]
  },
  {
   "cell_type": "code",
   "execution_count": 21,
   "id": "a81b1755-d4fc-4786-9505-11c4f883cf64",
   "metadata": {},
   "outputs": [
    {
     "name": "stdout",
     "output_type": "stream",
     "text": [
      "3627                       The Complete Calvin and Hobbes\n",
      "861        Words of Radiance (The Stormlight Archive, #2)\n",
      "3274    Harry Potter Boxed Set, Books 1-5 (Harry Potte...\n",
      "7946                                      ESV Study Bible\n",
      "8853                             Mark of the Lion Trilogy\n",
      "Name: title, dtype: object\n"
     ]
    }
   ],
   "source": [
    "for axis_value in most_popular_books.axes:\n",
    "    print(books.iloc[axis_value].title)"
   ]
  },
  {
   "cell_type": "code",
   "execution_count": 22,
   "id": "7f6ccbcd-d89a-484e-b915-7a82dca1012d",
   "metadata": {},
   "outputs": [
    {
     "data": {
      "text/html": [
       "<div>\n",
       "<style scoped>\n",
       "    .dataframe tbody tr th:only-of-type {\n",
       "        vertical-align: middle;\n",
       "    }\n",
       "\n",
       "    .dataframe tbody tr th {\n",
       "        vertical-align: top;\n",
       "    }\n",
       "\n",
       "    .dataframe thead th {\n",
       "        text-align: right;\n",
       "    }\n",
       "</style>\n",
       "<table border=\"1\" class=\"dataframe\">\n",
       "  <thead>\n",
       "    <tr style=\"text-align: right;\">\n",
       "      <th></th>\n",
       "      <th>title</th>\n",
       "      <th>authors</th>\n",
       "      <th>average_rating</th>\n",
       "    </tr>\n",
       "  </thead>\n",
       "  <tbody>\n",
       "    <tr>\n",
       "      <th>3627</th>\n",
       "      <td>The Complete Calvin and Hobbes</td>\n",
       "      <td>Bill Watterson</td>\n",
       "      <td>4.82</td>\n",
       "    </tr>\n",
       "    <tr>\n",
       "      <th>861</th>\n",
       "      <td>Words of Radiance (The Stormlight Archive, #2)</td>\n",
       "      <td>Brandon Sanderson</td>\n",
       "      <td>4.77</td>\n",
       "    </tr>\n",
       "    <tr>\n",
       "      <th>3274</th>\n",
       "      <td>Harry Potter Boxed Set, Books 1-5 (Harry Potte...</td>\n",
       "      <td>J.K. Rowling, Mary GrandPré</td>\n",
       "      <td>4.77</td>\n",
       "    </tr>\n",
       "    <tr>\n",
       "      <th>7946</th>\n",
       "      <td>ESV Study Bible</td>\n",
       "      <td>Anonymous, Lane T. Dennis, Wayne A. Grudem</td>\n",
       "      <td>4.76</td>\n",
       "    </tr>\n",
       "    <tr>\n",
       "      <th>8853</th>\n",
       "      <td>Mark of the Lion Trilogy</td>\n",
       "      <td>Francine Rivers</td>\n",
       "      <td>4.76</td>\n",
       "    </tr>\n",
       "  </tbody>\n",
       "</table>\n",
       "</div>"
      ],
      "text/plain": [
       "                                                  title  \\\n",
       "3627                     The Complete Calvin and Hobbes   \n",
       "861      Words of Radiance (The Stormlight Archive, #2)   \n",
       "3274  Harry Potter Boxed Set, Books 1-5 (Harry Potte...   \n",
       "7946                                    ESV Study Bible   \n",
       "8853                           Mark of the Lion Trilogy   \n",
       "\n",
       "                                         authors  average_rating  \n",
       "3627                              Bill Watterson            4.82  \n",
       "861                            Brandon Sanderson            4.77  \n",
       "3274                 J.K. Rowling, Mary GrandPré            4.77  \n",
       "7946  Anonymous, Lane T. Dennis, Wayne A. Grudem            4.76  \n",
       "8853                             Francine Rivers            4.76  "
      ]
     },
     "execution_count": 22,
     "metadata": {},
     "output_type": "execute_result"
    }
   ],
   "source": [
    "books.nlargest(5,'average_rating')\n"
   ]
  },
  {
   "cell_type": "code",
   "execution_count": 23,
   "id": "523ebd76-5b45-4bd6-aaad-ad13029d0f74",
   "metadata": {},
   "outputs": [],
   "source": [
    "booksCollection = books[['title','authors','average_rating']]"
   ]
  },
  {
   "cell_type": "code",
   "execution_count": 24,
   "id": "b017f3b7-4288-425a-8134-43e18948f74a",
   "metadata": {},
   "outputs": [],
   "source": [
    "booksCollection = booksCollection.set_index('title')"
   ]
  },
  {
   "cell_type": "code",
   "execution_count": 25,
   "id": "2fc8a450-ca72-4c90-aee1-9f86039806af",
   "metadata": {},
   "outputs": [
    {
     "data": {
      "text/plain": [
       "Index(['The Hunger Games (The Hunger Games, #1)',\n",
       "       'Harry Potter and the Sorcerer's Stone (Harry Potter, #1)',\n",
       "       'Twilight (Twilight, #1)', 'To Kill a Mockingbird', 'The Great Gatsby',\n",
       "       'The Fault in Our Stars', 'The Hobbit', 'The Catcher in the Rye',\n",
       "       'Angels & Demons  (Robert Langdon, #1)', 'Pride and Prejudice',\n",
       "       ...\n",
       "       'The Famished Road', 'The Red Knight (The Traitor Son Cycle, #1)',\n",
       "       'The Time Traveller's Guide to Medieval England: A Handbook for Visitors to the Fourteenth Century',\n",
       "       'The Everafter War (The Sisters Grimm, #7)', 'Billy Budd, Sailor',\n",
       "       'Bayou Moon (The Edge, #2)',\n",
       "       'Means of Ascent (The Years of Lyndon Johnson, #2)',\n",
       "       'The Mauritius Command',\n",
       "       'Cinderella Ate My Daughter: Dispatches from the Frontlines of the New Girlie-Girl Culture',\n",
       "       'The First World War'],\n",
       "      dtype='object', name='title', length=10000)"
      ]
     },
     "execution_count": 25,
     "metadata": {},
     "output_type": "execute_result"
    }
   ],
   "source": [
    "booksCollection.index"
   ]
  },
  {
   "cell_type": "code",
   "execution_count": 26,
   "id": "dbd4e1ac-ae33-4fac-b77d-97603fca50d8",
   "metadata": {},
   "outputs": [
    {
     "data": {
      "text/plain": [
       "[Index(['The Complete Calvin and Hobbes',\n",
       "        'Words of Radiance (The Stormlight Archive, #2)',\n",
       "        'Harry Potter Boxed Set, Books 1-5 (Harry Potter, #1-5)',\n",
       "        'ESV Study Bible', 'Mark of the Lion Trilogy'],\n",
       "       dtype='object', name='title'),\n",
       " Index(['authors', 'average_rating'], dtype='object')]"
      ]
     },
     "execution_count": 26,
     "metadata": {},
     "output_type": "execute_result"
    }
   ],
   "source": [
    "booksCollection.nlargest(5,'average_rating').axes"
   ]
  },
  {
   "cell_type": "code",
   "execution_count": 27,
   "id": "f0765477-8bc0-49a5-a6be-17597369be5a",
   "metadata": {},
   "outputs": [
    {
     "data": {
      "text/plain": [
       "authors           Bill Watterson\n",
       "average_rating              4.82\n",
       "Name: The Complete Calvin and Hobbes, dtype: object"
      ]
     },
     "execution_count": 27,
     "metadata": {},
     "output_type": "execute_result"
    }
   ],
   "source": [
    "booksCollection.loc['The Complete Calvin and Hobbes']"
   ]
  },
  {
   "cell_type": "code",
   "execution_count": null,
   "id": "8ad43629-986f-4fd4-8f9c-d504a89209df",
   "metadata": {},
   "outputs": [],
   "source": []
  }
 ],
 "metadata": {
  "kernelspec": {
   "display_name": "Python 3",
   "language": "python",
   "name": "python3"
  },
  "language_info": {
   "codemirror_mode": {
    "name": "ipython",
    "version": 3
   },
   "file_extension": ".py",
   "mimetype": "text/x-python",
   "name": "python",
   "nbconvert_exporter": "python",
   "pygments_lexer": "ipython3",
   "version": "3.8.8"
  }
 },
 "nbformat": 4,
 "nbformat_minor": 5
}
