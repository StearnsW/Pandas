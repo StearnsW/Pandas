{
 "cells": [
  {
   "cell_type": "markdown",
   "metadata": {},
   "source": [
    "Download the following data source: Souvenirs Data from the April 2021 Dev10 Data Professional program. You will need to unzip the file to work with the CSVs directly.\n",
    "Using souvenir.csv as the base:\n",
    "1. Read in all of the other CSVs"
   ]
  },
  {
   "cell_type": "code",
   "execution_count": 44,
   "metadata": {},
   "outputs": [
    {
     "name": "stdout",
     "output_type": "stream",
     "text": [
      "<class 'pandas.core.frame.DataFrame'>\n",
      "RangeIndex: 147 entries, 0 to 146\n",
      "Data columns (total 10 columns):\n",
      " #   Column           Non-Null Count  Dtype  \n",
      "---  ------           --------------  -----  \n",
      " 0   ItemID           147 non-null    int64  \n",
      " 1   LocationID       31 non-null     float64\n",
      " 2   ItemDescription  109 non-null    object \n",
      " 3   DateObtained     147 non-null    object \n",
      " 4   Price            147 non-null    float64\n",
      " 5   Weight           109 non-null    float64\n",
      " 6   OwnerID          147 non-null    int64  \n",
      " 7   CategoryID       147 non-null    int64  \n",
      " 8   CityID           125 non-null    float64\n",
      " 9   Name             147 non-null    object \n",
      "dtypes: float64(4), int64(3), object(3)\n",
      "memory usage: 11.6+ KB\n"
     ]
    }
   ],
   "source": [
    "import pandas as pd\n",
    "souvenirs=pd.read_csv('souvenir.csv')\n",
    "categories=pd.read_csv('category.csv')\n",
    "cities=pd.read_csv('city.csv')\n",
    "countries=pd.read_csv('country.csv')\n",
    "locations=pd.read_csv('location.csv')\n",
    "owners=pd.read_csv('owner.csv')\n",
    "regions=pd.read_csv('region.csv')\n",
    "souvenirs.info()\n"
   ]
  },
  {
   "cell_type": "markdown",
   "metadata": {},
   "source": [
    "2. Replace the ID fields with the descriptions"
   ]
  },
  {
   "cell_type": "code",
   "execution_count": 43,
   "metadata": {},
   "outputs": [
    {
     "name": "stdout",
     "output_type": "stream",
     "text": [
      "<class 'pandas.core.frame.DataFrame'>\n",
      "Int64Index: 147 entries, 0 to 146\n",
      "Data columns (total 14 columns):\n",
      " #   Column           Non-Null Count  Dtype  \n",
      "---  ------           --------------  -----  \n",
      " 0   ItemID           147 non-null    int64  \n",
      " 1   ItemDescription  109 non-null    object \n",
      " 2   DateObtained     147 non-null    object \n",
      " 3   Price            147 non-null    float64\n",
      " 4   Weight           109 non-null    float64\n",
      " 5   SouvenirName     147 non-null    object \n",
      " 6   CityName         125 non-null    object \n",
      " 7   RegionName       125 non-null    object \n",
      " 8   CountryName      125 non-null    object \n",
      " 9   CategoryName     147 non-null    object \n",
      " 10  PlaceName        31 non-null     object \n",
      " 11  Latitude         20 non-null     float64\n",
      " 12  Longitude        20 non-null     float64\n",
      " 13  OwnerName        147 non-null    object \n",
      "dtypes: float64(4), int64(1), object(9)\n",
      "memory usage: 17.2+ KB\n"
     ]
    }
   ],
   "source": [
    "souvenirs.rename(columns={\"Name\":\"SouvenirName\"},inplace=True)\n",
    "categories.rename(columns={\"Name\":\"CategoryName\"},inplace=True)\n",
    "owners.rename(columns={\"Name\":\"OwnerName\"},inplace=True)\n",
    "regions_with_countries=regions.merge(countries,how=\"inner\",on=\"CountryID\")\n",
    "regions_with_countries.rename(columns={\"name\":\"CountryName\",\"Name\":\"RegionName\"},inplace=True)\n",
    "regions_with_countries.drop('CountryID',inplace=True,axis=1)\n",
    "cities_with_RC=cities.merge(regions_with_countries,how=\"inner\",on=\"RegionID\")\n",
    "cities_with_RC.rename(columns={\"Name\":\"CityName\"},inplace=True)\n",
    "cities_with_RC.drop('RegionID',inplace=True,axis=1)\n",
    "souvenirs_with_CRC=souvenirs.merge(cities_with_RC,how=\"left\",on=\"CityID\")\n",
    "souvenirs_with_catCRC=souvenirs_with_CRC.merge(categories,how='inner',on='CategoryID')\n",
    "souvenirs_with_catCRCL=souvenirs_with_catCRC.merge(locations,how=\"left\",on='LocationID')\n",
    "souvenirs_with_all=souvenirs_with_catCRCL.merge(owners,how='inner',on='OwnerID')\n",
    "souvenirs_with_all.drop(['LocationID','OwnerID','CategoryID','CityID'],inplace=True,axis=1)\n",
    "souvenirs_with_all.info()"
   ]
  },
  {
   "cell_type": "markdown",
   "metadata": {},
   "source": [
    "3. Save the new file to souvenirs.JSON"
   ]
  },
  {
   "cell_type": "code",
   "execution_count": 47,
   "metadata": {},
   "outputs": [],
   "source": [
    "import json\n",
    "souvenirsjson = souvenirs_with_all.to_json()\n",
    "file=open('souvenirs json test.json','w') # open the file to edit\n",
    "\n",
    "json.dump(souvenirsjson,file)\n",
    "file.close()"
   ]
  },
  {
   "cell_type": "markdown",
   "metadata": {},
   "source": [
    "4. Create separate CSV files for each owner's set of souvenirs."
   ]
  },
  {
   "cell_type": "code",
   "execution_count": 48,
   "metadata": {},
   "outputs": [],
   "source": [
    "owners_list=souvenirs_with_all.OwnerName.unique()\n",
    "for owner in owners_list:\n",
    "    souvenirs_with_all[souvenirs_with_all.OwnerName==owner].to_csv(f'{owner} souvenirs.csv')"
   ]
  },
  {
   "cell_type": "markdown",
   "metadata": {},
   "source": [
    "Pandas supports ZIP files. Look into how Pandas works with ZIP files and see how that might change how you handle this exercise."
   ]
  },
  {
   "cell_type": "code",
   "execution_count": null,
   "metadata": {},
   "outputs": [],
   "source": []
  }
 ],
 "metadata": {
  "interpreter": {
   "hash": "f8bbe703e4409461e5c1796f0c401e26e62f32801f1a5b19455b89c31c613fbe"
  },
  "kernelspec": {
   "display_name": "Python 3.8.8 ('base')",
   "language": "python",
   "name": "python3"
  },
  "language_info": {
   "codemirror_mode": {
    "name": "ipython",
    "version": 3
   },
   "file_extension": ".py",
   "mimetype": "text/x-python",
   "name": "python",
   "nbconvert_exporter": "python",
   "pygments_lexer": "ipython3",
   "version": "3.8.8"
  },
  "orig_nbformat": 4
 },
 "nbformat": 4,
 "nbformat_minor": 2
}
