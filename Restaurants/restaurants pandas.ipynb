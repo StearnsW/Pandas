{
 "cells": [
  {
   "cell_type": "code",
   "execution_count": 11,
   "metadata": {},
   "outputs": [],
   "source": [
    "import pandas as pd\n",
    "places=pd.read_csv(\"geoplaces2.csv\")\n",
    "payments=pd.read_csv(\"chefmozaccepts.csv\")\n",
    "parking=pd.read_csv(\"chefmozparking.csv\")\n",
    "cuisines=pd.read_csv('chefmozcuisine.csv')\n",
    "ratings=pd.read_csv(\"rating_final.csv\")\n",
    "users=pd.read_csv(\"userprofile.csv\")\n",
    "user_payments=pd.read_csv(\"userpayment.csv\")\n",
    "user_cuisines=pd.read_csv(\"usercuisine.csv\")\n",
    "from statistics import mean"
   ]
  },
  {
   "cell_type": "markdown",
   "metadata": {},
   "source": [
    "1. What are all of the supported payment methods for each place?"
   ]
  },
  {
   "cell_type": "code",
   "execution_count": 8,
   "metadata": {},
   "outputs": [
    {
     "data": {
      "text/html": [
       "<div>\n",
       "<style scoped>\n",
       "    .dataframe tbody tr th:only-of-type {\n",
       "        vertical-align: middle;\n",
       "    }\n",
       "\n",
       "    .dataframe tbody tr th {\n",
       "        vertical-align: top;\n",
       "    }\n",
       "\n",
       "    .dataframe thead th {\n",
       "        text-align: right;\n",
       "    }\n",
       "</style>\n",
       "<table border=\"1\" class=\"dataframe\">\n",
       "  <thead>\n",
       "    <tr style=\"text-align: right;\">\n",
       "      <th></th>\n",
       "      <th>name</th>\n",
       "      <th>Rpayment</th>\n",
       "    </tr>\n",
       "  </thead>\n",
       "  <tbody>\n",
       "    <tr>\n",
       "      <th>0</th>\n",
       "      <td>puesto de tacos</td>\n",
       "      <td>cash</td>\n",
       "    </tr>\n",
       "    <tr>\n",
       "      <th>1</th>\n",
       "      <td>El Rinc�n de San Francisco</td>\n",
       "      <td>cash</td>\n",
       "    </tr>\n",
       "    <tr>\n",
       "      <th>2</th>\n",
       "      <td>El Rinc�n de San Francisco</td>\n",
       "      <td>VISA</td>\n",
       "    </tr>\n",
       "    <tr>\n",
       "      <th>3</th>\n",
       "      <td>El Rinc�n de San Francisco</td>\n",
       "      <td>MasterCard-Eurocard</td>\n",
       "    </tr>\n",
       "    <tr>\n",
       "      <th>4</th>\n",
       "      <td>little pizza Emilio Portes Gil</td>\n",
       "      <td>cash</td>\n",
       "    </tr>\n",
       "    <tr>\n",
       "      <th>...</th>\n",
       "      <td>...</td>\n",
       "      <td>...</td>\n",
       "    </tr>\n",
       "    <tr>\n",
       "      <th>248</th>\n",
       "      <td>Sushi Itto</td>\n",
       "      <td>cash</td>\n",
       "    </tr>\n",
       "    <tr>\n",
       "      <th>249</th>\n",
       "      <td>Sushi Itto</td>\n",
       "      <td>VISA</td>\n",
       "    </tr>\n",
       "    <tr>\n",
       "      <th>250</th>\n",
       "      <td>Sushi Itto</td>\n",
       "      <td>MasterCard-Eurocard</td>\n",
       "    </tr>\n",
       "    <tr>\n",
       "      <th>251</th>\n",
       "      <td>Sushi Itto</td>\n",
       "      <td>American_Express</td>\n",
       "    </tr>\n",
       "    <tr>\n",
       "      <th>252</th>\n",
       "      <td>Paniroles</td>\n",
       "      <td>cash</td>\n",
       "    </tr>\n",
       "  </tbody>\n",
       "</table>\n",
       "<p>253 rows × 2 columns</p>\n",
       "</div>"
      ],
      "text/plain": [
       "                               name             Rpayment\n",
       "0                   puesto de tacos                 cash\n",
       "1        El Rinc�n de San Francisco                 cash\n",
       "2        El Rinc�n de San Francisco                 VISA\n",
       "3        El Rinc�n de San Francisco  MasterCard-Eurocard\n",
       "4    little pizza Emilio Portes Gil                 cash\n",
       "..                              ...                  ...\n",
       "248                      Sushi Itto                 cash\n",
       "249                      Sushi Itto                 VISA\n",
       "250                      Sushi Itto  MasterCard-Eurocard\n",
       "251                      Sushi Itto     American_Express\n",
       "252                       Paniroles                 cash\n",
       "\n",
       "[253 rows x 2 columns]"
      ]
     },
     "execution_count": 8,
     "metadata": {},
     "output_type": "execute_result"
    }
   ],
   "source": [
    "places_payments=places.merge(payments,how='inner',on='placeID')\n",
    "places_payments[['name','Rpayment']]"
   ]
  },
  {
   "cell_type": "markdown",
   "metadata": {},
   "source": [
    "2. What are the parking statuses for each place?"
   ]
  },
  {
   "cell_type": "code",
   "execution_count": 9,
   "metadata": {},
   "outputs": [
    {
     "data": {
      "text/html": [
       "<div>\n",
       "<style scoped>\n",
       "    .dataframe tbody tr th:only-of-type {\n",
       "        vertical-align: middle;\n",
       "    }\n",
       "\n",
       "    .dataframe tbody tr th {\n",
       "        vertical-align: top;\n",
       "    }\n",
       "\n",
       "    .dataframe thead th {\n",
       "        text-align: right;\n",
       "    }\n",
       "</style>\n",
       "<table border=\"1\" class=\"dataframe\">\n",
       "  <thead>\n",
       "    <tr style=\"text-align: right;\">\n",
       "      <th></th>\n",
       "      <th>name</th>\n",
       "      <th>parking_lot</th>\n",
       "    </tr>\n",
       "  </thead>\n",
       "  <tbody>\n",
       "    <tr>\n",
       "      <th>0</th>\n",
       "      <td>Kiku Cuernavaca</td>\n",
       "      <td>none</td>\n",
       "    </tr>\n",
       "    <tr>\n",
       "      <th>1</th>\n",
       "      <td>puesto de tacos</td>\n",
       "      <td>none</td>\n",
       "    </tr>\n",
       "    <tr>\n",
       "      <th>2</th>\n",
       "      <td>El Rinc�n de San Francisco</td>\n",
       "      <td>none</td>\n",
       "    </tr>\n",
       "    <tr>\n",
       "      <th>3</th>\n",
       "      <td>little pizza Emilio Portes Gil</td>\n",
       "      <td>none</td>\n",
       "    </tr>\n",
       "    <tr>\n",
       "      <th>4</th>\n",
       "      <td>carnitas_mata</td>\n",
       "      <td>yes</td>\n",
       "    </tr>\n",
       "    <tr>\n",
       "      <th>...</th>\n",
       "      <td>...</td>\n",
       "      <td>...</td>\n",
       "    </tr>\n",
       "    <tr>\n",
       "      <th>125</th>\n",
       "      <td>Chaires</td>\n",
       "      <td>yes</td>\n",
       "    </tr>\n",
       "    <tr>\n",
       "      <th>126</th>\n",
       "      <td>Sushi Itto</td>\n",
       "      <td>none</td>\n",
       "    </tr>\n",
       "    <tr>\n",
       "      <th>127</th>\n",
       "      <td>Paniroles</td>\n",
       "      <td>none</td>\n",
       "    </tr>\n",
       "    <tr>\n",
       "      <th>128</th>\n",
       "      <td>Restaurant Bar Coty y Pablo</td>\n",
       "      <td>none</td>\n",
       "    </tr>\n",
       "    <tr>\n",
       "      <th>129</th>\n",
       "      <td>sirloin stockade</td>\n",
       "      <td>none</td>\n",
       "    </tr>\n",
       "  </tbody>\n",
       "</table>\n",
       "<p>130 rows × 2 columns</p>\n",
       "</div>"
      ],
      "text/plain": [
       "                               name parking_lot\n",
       "0                   Kiku Cuernavaca        none\n",
       "1                   puesto de tacos        none\n",
       "2        El Rinc�n de San Francisco        none\n",
       "3    little pizza Emilio Portes Gil        none\n",
       "4                     carnitas_mata         yes\n",
       "..                              ...         ...\n",
       "125                         Chaires         yes\n",
       "126                      Sushi Itto        none\n",
       "127                       Paniroles        none\n",
       "128     Restaurant Bar Coty y Pablo        none\n",
       "129                sirloin stockade        none\n",
       "\n",
       "[130 rows x 2 columns]"
      ]
     },
     "execution_count": 9,
     "metadata": {},
     "output_type": "execute_result"
    }
   ],
   "source": [
    "places_parking=places.merge(parking,how='inner',on='placeID')\n",
    "places_parking[['name','parking_lot']]"
   ]
  },
  {
   "cell_type": "markdown",
   "metadata": {},
   "source": [
    "3. What are the cuisines for each place?"
   ]
  },
  {
   "cell_type": "code",
   "execution_count": 25,
   "metadata": {},
   "outputs": [
    {
     "data": {
      "text/html": [
       "<div>\n",
       "<style scoped>\n",
       "    .dataframe tbody tr th:only-of-type {\n",
       "        vertical-align: middle;\n",
       "    }\n",
       "\n",
       "    .dataframe tbody tr th {\n",
       "        vertical-align: top;\n",
       "    }\n",
       "\n",
       "    .dataframe thead th {\n",
       "        text-align: right;\n",
       "    }\n",
       "</style>\n",
       "<table border=\"1\" class=\"dataframe\">\n",
       "  <thead>\n",
       "    <tr style=\"text-align: right;\">\n",
       "      <th></th>\n",
       "      <th>name</th>\n",
       "      <th>Rcuisine</th>\n",
       "    </tr>\n",
       "  </thead>\n",
       "  <tbody>\n",
       "    <tr>\n",
       "      <th>0</th>\n",
       "      <td>Kiku Cuernavaca</td>\n",
       "      <td>Japanese</td>\n",
       "    </tr>\n",
       "    <tr>\n",
       "      <th>1</th>\n",
       "      <td>puesto de tacos</td>\n",
       "      <td>Mexican</td>\n",
       "    </tr>\n",
       "    <tr>\n",
       "      <th>2</th>\n",
       "      <td>El Rinc�n de San Francisco</td>\n",
       "      <td>Mexican</td>\n",
       "    </tr>\n",
       "    <tr>\n",
       "      <th>3</th>\n",
       "      <td>little pizza Emilio Portes Gil</td>\n",
       "      <td>Armenian</td>\n",
       "    </tr>\n",
       "    <tr>\n",
       "      <th>4</th>\n",
       "      <td>carnitas_mata</td>\n",
       "      <td>Mexican</td>\n",
       "    </tr>\n",
       "    <tr>\n",
       "      <th>...</th>\n",
       "      <td>...</td>\n",
       "      <td>...</td>\n",
       "    </tr>\n",
       "    <tr>\n",
       "      <th>107</th>\n",
       "      <td>Chaires</td>\n",
       "      <td>Bakery</td>\n",
       "    </tr>\n",
       "    <tr>\n",
       "      <th>108</th>\n",
       "      <td>Chaires</td>\n",
       "      <td>Cafeteria</td>\n",
       "    </tr>\n",
       "    <tr>\n",
       "      <th>109</th>\n",
       "      <td>Sushi Itto</td>\n",
       "      <td>Japanese</td>\n",
       "    </tr>\n",
       "    <tr>\n",
       "      <th>110</th>\n",
       "      <td>Paniroles</td>\n",
       "      <td>Italian</td>\n",
       "    </tr>\n",
       "    <tr>\n",
       "      <th>111</th>\n",
       "      <td>Restaurant Bar Coty y Pablo</td>\n",
       "      <td>Bar</td>\n",
       "    </tr>\n",
       "  </tbody>\n",
       "</table>\n",
       "<p>112 rows × 2 columns</p>\n",
       "</div>"
      ],
      "text/plain": [
       "                               name   Rcuisine\n",
       "0                   Kiku Cuernavaca   Japanese\n",
       "1                   puesto de tacos    Mexican\n",
       "2        El Rinc�n de San Francisco    Mexican\n",
       "3    little pizza Emilio Portes Gil   Armenian\n",
       "4                     carnitas_mata    Mexican\n",
       "..                              ...        ...\n",
       "107                         Chaires     Bakery\n",
       "108                         Chaires  Cafeteria\n",
       "109                      Sushi Itto   Japanese\n",
       "110                       Paniroles    Italian\n",
       "111     Restaurant Bar Coty y Pablo        Bar\n",
       "\n",
       "[112 rows x 2 columns]"
      ]
     },
     "execution_count": 25,
     "metadata": {},
     "output_type": "execute_result"
    }
   ],
   "source": [
    "places_cuisines=places.merge(cuisines,how='inner',on='placeID')\n",
    "places_cuisines[['name','Rcuisine']]"
   ]
  },
  {
   "cell_type": "markdown",
   "metadata": {},
   "source": [
    "4. What is the average rating, average food rating, average service rating, minimum food rating, minimum service rating, and maximum service rating for the restaurants by cuisine?"
   ]
  },
  {
   "cell_type": "code",
   "execution_count": 30,
   "metadata": {},
   "outputs": [
    {
     "name": "stdout",
     "output_type": "stream",
     "text": [
      "{'Spanish': [], 'Italian': [1.0384615384615385, 1.1923076923076923, 0.9615384615384616, 0, 0, 2], 'Latin_American': [], 'Mexican': [1.1890756302521008, 1.281512605042017, 1.0798319327731092, 0, 0, 2], 'Fast_Food': [1.164835164835165, 1.1868131868131868, 0.9560439560439561, 0, 0, 2], 'Burgers': [1.032258064516129, 1.1612903225806452, 0.8709677419354839, 0, 0, 2], 'Dessert-Ice_Cream': [], 'Hot_Dogs': [], 'Steaks': [], 'Asian': [], 'International': [1.5135135135135136, 1.5675675675675675, 1.4864864864864864, 0, 0, 2], 'Mongolian': [], 'Vegetarian': [], 'Brazilian': [], 'Cafe-Coffee_Shop': [1.5833333333333333, 1.3333333333333333, 1.4166666666666667, 0, 1, 2], 'Cafeteria': [1.2058823529411764, 1.1274509803921569, 1.0784313725490196, 0, 0, 2], 'Contemporary': [1.25, 1.15625, 1.15625, 0, 0, 2], 'Deli-Sandwiches': [], 'Diner': [], 'Japanese': [1.3448275862068966, 1.4482758620689655, 1.2758620689655173, 0, 0, 2], 'Sushi': [], 'Seafood': [1.2419354838709677, 1.1451612903225807, 1.1774193548387097, 0, 0, 2], 'Chinese': [1.2195121951219512, 1.1951219512195121, 1.048780487804878, 0, 0, 2], 'Bar': [1.2, 1.1357142857142857, 1.0857142857142856, 0, 0, 2], 'Bar_Pub_Brewery': [1.305084745762712, 1.1694915254237288, 1.2033898305084745, 0, 0, 2], 'Pizzeria': [1.1176470588235294, 1.1176470588235294, 1.0392156862745099, 0, 0, 2], 'Mediterranean': [1.75, 1.75, 1, 1, 0, 2], 'American': [1.1538461538461537, 1.1025641025641026, 1.1282051282051282, 0, 0, 2], 'Family': [1.5714285714285714, 1.5714285714285714, 1.5, 0, 0, 2], 'Caribbean': [], 'African': [], 'Breakfast-Brunch': [1, 0.7777777777777778, 0.8888888888888888, 0, 0, 2], 'Regional': [0.5, 1, 0.25, 0, 0, 1], 'Afghan': [], 'Bakery': [1.4, 1.4, 1.4, 1, 1, 2], 'Game': [1.4285714285714286, 1, 1, 0, 0, 2], 'Armenian': [1.25, 2, 1.25, 2, 1, 2], 'Vietnamese': [1.1666666666666667, 1.3333333333333333, 1.1666666666666667, 0, 0, 2], 'Korean': [], 'Thai': [], 'Barbecue': [], 'Polish': [], 'Dutch-Belgian': [], 'French': [], 'German': [], 'Southwestern': [], 'Persian': [], 'Ethiopian': [], 'Juice': [], 'Soup': [], 'Continental-European': [], 'Greek': [], 'Southern': [], 'Eastern_European': [], 'California': [], 'Bagels': [], 'Turkish': [], 'Organic-Healthy': [], 'Fine_Dining': []}\n"
     ]
    }
   ],
   "source": [
    "places_cuisines_ratings=places_cuisines.merge(ratings,how='inner',on='placeID')\n",
    "cuisine_dictionary={}\n",
    "things=cuisines.Rcuisine.unique()\n",
    "for cuisine in things:\n",
    "    restaurants_to_average=places_cuisines_ratings[places_cuisines_ratings.Rcuisine==cuisine]\n",
    "    list_to_add=[]\n",
    "    if len(restaurants_to_average)>0:\n",
    "        list_to_add.append(mean(restaurants_to_average.rating))\n",
    "        list_to_add.append(mean(restaurants_to_average.food_rating))\n",
    "        list_to_add.append(mean(restaurants_to_average.service_rating))\n",
    "        list_to_add.append(min(restaurants_to_average.food_rating))\n",
    "        list_to_add.append(min(restaurants_to_average.service_rating))\n",
    "        list_to_add.append(max(restaurants_to_average.service_rating))\n",
    "    cuisine_dictionary[cuisine]=list_to_add\n",
    "print(cuisine_dictionary)  "
   ]
  },
  {
   "cell_type": "markdown",
   "metadata": {},
   "source": [
    "5. What are the payment methods preferred by social drinkers?"
   ]
  },
  {
   "cell_type": "code",
   "execution_count": 32,
   "metadata": {},
   "outputs": [
    {
     "data": {
      "text/plain": [
       "cash                   38\n",
       "bank_debit_cards        8\n",
       "VISA                    8\n",
       "MasterCard-Eurocard     2\n",
       "Name: Upayment, dtype: int64"
      ]
     },
     "execution_count": 32,
     "metadata": {},
     "output_type": "execute_result"
    }
   ],
   "source": [
    "users_with_payments=users.merge(user_payments,how='inner',on='userID')\n",
    "social_drinkers=users_with_payments[users_with_payments.drink_level==\"social drinker\"]\n",
    "social_drinkers.Upayment.value_counts()"
   ]
  },
  {
   "cell_type": "markdown",
   "metadata": {},
   "source": [
    "6. What are the cuisines preferred by eco-friendly users?"
   ]
  },
  {
   "cell_type": "code",
   "execution_count": 35,
   "metadata": {},
   "outputs": [
    {
     "data": {
      "text/plain": [
       "Mexican             12\n",
       "Contemporary         3\n",
       "American             2\n",
       "Cafe-Coffee_Shop     2\n",
       "Burgers              1\n",
       "Portuguese           1\n",
       "Indian-Pakistani     1\n",
       "Polynesian           1\n",
       "Doughnuts            1\n",
       "Eastern_European     1\n",
       "Afghan               1\n",
       "Diner                1\n",
       "Pizzeria             1\n",
       "Moroccan             1\n",
       "Bar                  1\n",
       "Australian           1\n",
       "Sushi                1\n",
       "Japanese             1\n",
       "Family               1\n",
       "Lebanese             1\n",
       "Chinese              1\n",
       "Latin_American       1\n",
       "Regional             1\n",
       "Polish               1\n",
       "Cafeteria            1\n",
       "Fusion               1\n",
       "Hot_Dogs             1\n",
       "Barbecue             1\n",
       "Italian              1\n",
       "Name: Rcuisine, dtype: int64"
      ]
     },
     "execution_count": 35,
     "metadata": {},
     "output_type": "execute_result"
    }
   ],
   "source": [
    "users_with_cuisines=users.merge(user_cuisines,how='inner',on='userID')\n",
    "eco_friendly_folks=users_with_cuisines[users_with_cuisines.interest==\"eco-friendly\"]\n",
    "eco_friendly_folks.Rcuisine.value_counts()"
   ]
  },
  {
   "cell_type": "markdown",
   "metadata": {},
   "source": [
    "7. What payment methods are preferred by students?"
   ]
  },
  {
   "cell_type": "code",
   "execution_count": 36,
   "metadata": {},
   "outputs": [
    {
     "data": {
      "text/plain": [
       "cash                   109\n",
       "VISA                    12\n",
       "bank_debit_cards        10\n",
       "American_Express         1\n",
       "MasterCard-Eurocard      1\n",
       "Name: Upayment, dtype: int64"
      ]
     },
     "execution_count": 36,
     "metadata": {},
     "output_type": "execute_result"
    }
   ],
   "source": [
    "students=users_with_payments[users_with_payments.activity==\"student\"]\n",
    "students.Upayment.value_counts()"
   ]
  },
  {
   "cell_type": "markdown",
   "metadata": {},
   "source": [
    "8. What cuisines are preferred by Catholic students?"
   ]
  },
  {
   "cell_type": "code",
   "execution_count": 43,
   "metadata": {},
   "outputs": [
    {
     "data": {
      "text/plain": [
       "Mexican          62\n",
       "American          8\n",
       "Family            7\n",
       "Cafeteria         7\n",
       "Italian           7\n",
       "                 ..\n",
       "International     1\n",
       "Basque            1\n",
       "Brazilian         1\n",
       "Greek             1\n",
       "Tea_House         1\n",
       "Name: Rcuisine, Length: 103, dtype: int64"
      ]
     },
     "execution_count": 43,
     "metadata": {},
     "output_type": "execute_result"
    }
   ],
   "source": [
    "students_cuisines=users_with_cuisines[users_with_cuisines.activity==\"student\"]\n",
    "catholic_students=students_cuisines[students_cuisines.religion==\"Catholic\"]\n",
    "catholic_students.Rcuisine.value_counts()"
   ]
  },
  {
   "cell_type": "markdown",
   "metadata": {},
   "source": [
    "9. What are some of the demographics of the users rating Mexican service ratings a 2?"
   ]
  },
  {
   "cell_type": "code",
   "execution_count": 52,
   "metadata": {},
   "outputs": [
    {
     "data": {
      "text/plain": [
       "<bound method DataFrame.info of      smoker marital_status  religion  weight  height\n",
       "1     false         single      none      69    1.77\n",
       "9     false         single  Catholic      40    1.87\n",
       "26    false         single  Catholic      60    1.69\n",
       "27    false         single      none      44    1.53\n",
       "34    false         single      none      44    1.53\n",
       "...     ...            ...       ...     ...     ...\n",
       "1021   true         single  Catholic      50    1.60\n",
       "1026   true         single  Catholic      50    1.60\n",
       "1032  false         single  Catholic      72    1.78\n",
       "1034  false         single  Catholic      72    1.78\n",
       "1035  false         single  Catholic      72    1.78\n",
       "\n",
       "[81 rows x 5 columns]>"
      ]
     },
     "execution_count": 52,
     "metadata": {},
     "output_type": "execute_result"
    }
   ],
   "source": [
    "users_PCR=users.merge(places_cuisines_ratings,how='inner',on='userID')\n",
    "users_PCR_Mexican=users_PCR[users_PCR.Rcuisine==\"Mexican\"]\n",
    "users_PCR_Mexican_GS=users_PCR_Mexican[users_PCR_Mexican.service_rating==2]\n",
    "user_demographics=users_PCR_Mexican_GS[['smoker','marital_status','religion','weight','height']]\n",
    "user_demographics.info\n",
    "# user_demographics.smoker.value_counts()\n",
    "# user_demographics.religion.value_counts()\n",
    "# user_demographics.marital_status.value_counts()\n",
    "# mean(user_demographics.weight)\n",
    "# mean(user_demographics.height)"
   ]
  }
 ],
 "metadata": {
  "interpreter": {
   "hash": "f8bbe703e4409461e5c1796f0c401e26e62f32801f1a5b19455b89c31c613fbe"
  },
  "kernelspec": {
   "display_name": "Python 3.8.8 ('base')",
   "language": "python",
   "name": "python3"
  },
  "language_info": {
   "codemirror_mode": {
    "name": "ipython",
    "version": 3
   },
   "file_extension": ".py",
   "mimetype": "text/x-python",
   "name": "python",
   "nbconvert_exporter": "python",
   "pygments_lexer": "ipython3",
   "version": "3.8.8"
  },
  "orig_nbformat": 4
 },
 "nbformat": 4,
 "nbformat_minor": 2
}
